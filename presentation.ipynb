{
 "cells": [
  {
   "cell_type": "markdown",
   "metadata": {
    "slideshow": {
     "slide_type": "slide"
    }
   },
   "source": [
    "# Python Strings\n",
    "## Algo Bonus - A1 Class\n",
    "**`Algo-S1-3-Python`**"
   ]
  },
  {
   "cell_type": "markdown",
   "metadata": {
    "slideshow": {
     "slide_type": "slide"
    }
   },
   "source": [
    "### Exercise 3.1 (Substring)\n",
    "Write a function that tests whether the string `sub` is a substring of the string `s`. If it is the case, it returns\n",
    "the position of the first character of `sub` in the string `s` if found, `-1` otherwise."
   ]
  },
  {
   "cell_type": "markdown",
   "metadata": {
    "slideshow": {
     "slide_type": "fragment"
    }
   },
   "source": [
    "```py\n",
    "def substring(s: str, sub: str) -> int:\n",
    "    i = 0\n",
    "    result = -1\n",
    "    length = len(s) - len(sub) + 1\n",
    "    sub_length = len(sub)\n",
    "```"
   ]
  },
  {
   "cell_type": "markdown",
   "metadata": {
    "slideshow": {
     "slide_type": "fragment"
    }
   },
   "source": [
    "```py\n",
    "    while result == -1 and i < length:\n",
    "        j = 0\n",
    "        while j < sub_length and s[i + j] == sub[j]:\n",
    "            j += 1\n",
    "        if j == sub_length:\n",
    "            result = i\n",
    "        else:\n",
    "            i += 1\n",
    "    return result\n",
    "```"
   ]
  },
  {
   "cell_type": "code",
   "execution_count": 1,
   "metadata": {
    "slideshow": {
     "slide_type": "subslide"
    }
   },
   "outputs": [],
   "source": [
    "def substring(s: str, sub: str) -> int:\n",
    "    i = 0\n",
    "    result = -1\n",
    "    length = len(s) - len(sub) + 1\n",
    "    sub_length = len(sub)\n",
    "    while result == -1 and i < length:\n",
    "        j = 0\n",
    "        while j < sub_length and s[i + j] == sub[j]:\n",
    "            j += 1\n",
    "        if j == sub_length:\n",
    "            result = i\n",
    "        else:\n",
    "            i += 1\n",
    "    return result"
   ]
  },
  {
   "cell_type": "code",
   "execution_count": 2,
   "metadata": {
    "slideshow": {
     "slide_type": "fragment"
    }
   },
   "outputs": [
    {
     "data": {
      "text/plain": [
       "1"
      ]
     },
     "execution_count": 2,
     "metadata": {},
     "output_type": "execute_result"
    }
   ],
   "source": [
    "substring(\"toto\", \"o\")"
   ]
  },
  {
   "cell_type": "code",
   "execution_count": 3,
   "metadata": {
    "slideshow": {
     "slide_type": "fragment"
    }
   },
   "outputs": [
    {
     "data": {
      "text/plain": [
       "3"
      ]
     },
     "execution_count": 3,
     "metadata": {},
     "output_type": "execute_result"
    }
   ],
   "source": [
    "substring(\"aaaaaab\", \"aaab\")"
   ]
  },
  {
   "cell_type": "code",
   "execution_count": 4,
   "metadata": {
    "slideshow": {
     "slide_type": "fragment"
    }
   },
   "outputs": [
    {
     "data": {
      "text/plain": [
       "8"
      ]
     },
     "execution_count": 4,
     "metadata": {},
     "output_type": "execute_result"
    }
   ],
   "source": [
    "substring(\"tititatatototatatititoto\", \"toto\")"
   ]
  },
  {
   "cell_type": "markdown",
   "metadata": {
    "slideshow": {
     "slide_type": "subslide"
    }
   },
   "source": [
    "**Time complexity**"
   ]
  },
  {
   "cell_type": "markdown",
   "metadata": {
    "slideshow": {
     "slide_type": "fragment"
    }
   },
   "source": [
    "```py\n",
    "# n = len(s)\n",
    "# m = len(sub)\n",
    "def substring(s: str, sub: str) -> int:\n",
    "    i = 0\n",
    "    result = -1\n",
    "    length = len(s) - len(sub) + 1\n",
    "    sub_length = len(sub)\n",
    "    \n",
    "    while result == -1 and i < length: # Worst case: O(n - m + 1)\n",
    "        j = 0\n",
    "        while j < sub_length and s[i + j] == sub[j]: # Worst case: O(m)\n",
    "            j += 1\n",
    "        if j == sub_length:\n",
    "            result = i\n",
    "        else:\n",
    "            i += 1\n",
    "    return result\n",
    "```"
   ]
  },
  {
   "cell_type": "markdown",
   "metadata": {
    "slideshow": {
     "slide_type": "fragment"
    }
   },
   "source": [
    "\n",
    "The external loop executes  $O(n−m+1)$ times the internal loop which that run $O(m)$ times: \n",
    "<p style=\"text-align:center;\">$O((n−m+1)×m) = O(n\\times m)$</p>"
   ]
  },
  {
   "cell_type": "markdown",
   "metadata": {
    "slideshow": {
     "slide_type": "slide"
    }
   },
   "source": [
    "### Exercise 3.2 (Alphabetical substring)\n",
    "Write a function that returns the longest alphabetically sorted substring in a given string `s` and its length.\n",
    "The string `s` is only composed of lowercase letters."
   ]
  },
  {
   "cell_type": "markdown",
   "metadata": {
    "slideshow": {
     "slide_type": "fragment"
    }
   },
   "source": [
    "```py\n",
    "def longest_alpha_substring(s: str) -> tuple[str, int]:\n",
    "    length = len(s)\n",
    "    res = (\"\", 0)\n",
    "    if length > 0:\n",
    "        current = res = (s[0], 1)\n",
    "```"
   ]
  },
  {
   "cell_type": "markdown",
   "metadata": {
    "slideshow": {
     "slide_type": "fragment"
    }
   },
   "source": [
    "```py\n",
    "    for i in range(1, length):\n",
    "        if s[i - 1] > s[i]:\n",
    "            current = (\"\", 0)\n",
    "        current = (current[0] + s[i], current[1] + 1)\n",
    "        if current[1] > res[1]:\n",
    "            res = current\n",
    "    return res\n",
    "```"
   ]
  },
  {
   "cell_type": "code",
   "execution_count": 5,
   "metadata": {
    "slideshow": {
     "slide_type": "subslide"
    }
   },
   "outputs": [],
   "source": [
    "def longest_alpha_substring(s: str) -> tuple[str, int]:\n",
    "    length = len(s)\n",
    "    res = (\"\", 0)\n",
    "    if length > 0:\n",
    "        current = res = (s[0], 1)\n",
    "    for i in range(1, length):\n",
    "        if s[i - 1] > s[i]:\n",
    "            current = (\"\", 0)\n",
    "        current = (current[0] + s[i], current[1] + 1)\n",
    "        if current[1] > res[1]:\n",
    "            res = current\n",
    "    return res"
   ]
  },
  {
   "cell_type": "code",
   "execution_count": 6,
   "metadata": {
    "slideshow": {
     "slide_type": "fragment"
    }
   },
   "outputs": [
    {
     "data": {
      "text/plain": [
       "('abcdef', 6)"
      ]
     },
     "execution_count": 6,
     "metadata": {},
     "output_type": "execute_result"
    }
   ],
   "source": [
    "longest_alpha_substring(\"vdkjhsfjhikdabcdef\")"
   ]
  },
  {
   "cell_type": "code",
   "execution_count": 7,
   "metadata": {
    "slideshow": {
     "slide_type": "fragment"
    }
   },
   "outputs": [
    {
     "data": {
      "text/plain": [
       "('acdezz', 6)"
      ]
     },
     "execution_count": 7,
     "metadata": {},
     "output_type": "execute_result"
    }
   ],
   "source": [
    "longest_alpha_substring (\"vdkjhsfjacdezzdsf\")"
   ]
  },
  {
   "cell_type": "code",
   "execution_count": 8,
   "metadata": {
    "slideshow": {
     "slide_type": "fragment"
    }
   },
   "outputs": [
    {
     "data": {
      "text/plain": [
       "('v', 1)"
      ]
     },
     "execution_count": 8,
     "metadata": {},
     "output_type": "execute_result"
    }
   ],
   "source": [
    "longest_alpha_substring(\"v\")"
   ]
  },
  {
   "cell_type": "code",
   "execution_count": 9,
   "metadata": {
    "slideshow": {
     "slide_type": "fragment"
    }
   },
   "outputs": [
    {
     "data": {
      "text/plain": [
       "('', 0)"
      ]
     },
     "execution_count": 9,
     "metadata": {},
     "output_type": "execute_result"
    }
   ],
   "source": [
    "longest_alpha_substring(\"\")"
   ]
  },
  {
   "cell_type": "markdown",
   "metadata": {
    "slideshow": {
     "slide_type": "subslide"
    }
   },
   "source": [
    "**Time complexity**"
   ]
  },
  {
   "cell_type": "markdown",
   "metadata": {
    "slideshow": {
     "slide_type": "fragment"
    }
   },
   "source": [
    "```py\n",
    "def longest_alpha_substring(s: str) -> tuple[str, int]:\n",
    "    length = len(s)\n",
    "    res = (\"\", 0)\n",
    "    \n",
    "    if length > 0:\n",
    "        current = res = (s[0], 1)\n",
    "    for i in range(1, length):\n",
    "        if s[i - 1] > s[i]:\n",
    "            current = (\"\", 0)\n",
    "        current = (current[0] + s[i], current[1] + 1)\n",
    "        if current[1] > res[1]:\n",
    "            res = current\n",
    "    return res\n",
    "```"
   ]
  },
  {
   "cell_type": "markdown",
   "metadata": {
    "slideshow": {
     "slide_type": "fragment"
    }
   },
   "source": [
    "<p style=\"text-align:center;\">$O(n^2)$</p>"
   ]
  },
  {
   "cell_type": "markdown",
   "metadata": {
    "slideshow": {
     "slide_type": "slide"
    }
   },
   "source": [
    "### Exercise 3.3 (Palindromic substring)\n",
    "Write a function that returns the length of longest palindromic substring in a given string `s`."
   ]
  },
  {
   "cell_type": "markdown",
   "metadata": {
    "slideshow": {
     "slide_type": "fragment"
    }
   },
   "source": [
    "```py\n",
    "def longest_palindromic_substring(s: str) -> int:\n",
    "    res = 0\n",
    "    length = len(s)\n",
    "```"
   ]
  },
  {
   "cell_type": "markdown",
   "metadata": {
    "slideshow": {
     "slide_type": "fragment"
    }
   },
   "source": [
    "```py\n",
    "    for i in range(1, length - 1):\n",
    "        delta = 1\n",
    "        while i - delta > 0 and i + delta < length and s[i - delta] == s[i + delta]:\n",
    "            delta += 1\n",
    "        palin_len = 2 * delta - 1\n",
    "        if palin_len > res:\n",
    "            res = palin_len\n",
    "    return res\n",
    "```"
   ]
  },
  {
   "cell_type": "code",
   "execution_count": 10,
   "metadata": {
    "slideshow": {
     "slide_type": "subslide"
    }
   },
   "outputs": [],
   "source": [
    "def longest_palindromic_substring(s: str) -> int:\n",
    "    res = 0\n",
    "    length = len(s)\n",
    "    for i in range(1, length - 1):\n",
    "        delta = 1\n",
    "        while i - delta > 0 and i + delta < length and s[i - delta] == s[i + delta]:\n",
    "            delta += 1\n",
    "        palin_len = 2 * delta - 1\n",
    "        if palin_len > res:\n",
    "            res = palin_len\n",
    "    return res"
   ]
  },
  {
   "cell_type": "code",
   "execution_count": 11,
   "metadata": {
    "slideshow": {
     "slide_type": "fragment"
    }
   },
   "outputs": [
    {
     "data": {
      "text/plain": [
       "3"
      ]
     },
     "execution_count": 11,
     "metadata": {},
     "output_type": "execute_result"
    }
   ],
   "source": [
    "longest_palindromic_substring(\"aabab\")"
   ]
  },
  {
   "cell_type": "code",
   "execution_count": 12,
   "metadata": {
    "slideshow": {
     "slide_type": "fragment"
    }
   },
   "outputs": [
    {
     "data": {
      "text/plain": [
       "5"
      ]
     },
     "execution_count": 12,
     "metadata": {},
     "output_type": "execute_result"
    }
   ],
   "source": [
    "longest_palindromic_substring(\"fndskjfkayakdsfjhkf\")"
   ]
  },
  {
   "cell_type": "markdown",
   "metadata": {
    "slideshow": {
     "slide_type": "subslide"
    }
   },
   "source": [
    "**Time complexity**"
   ]
  },
  {
   "cell_type": "markdown",
   "metadata": {
    "slideshow": {
     "slide_type": "fragment"
    }
   },
   "source": [
    "```py\n",
    "def longest_palindromic_substring(s: str) -> int:\n",
    "    res = 0\n",
    "    length = len(s)\n",
    "    \n",
    "    for i in range(1, length - 1):\n",
    "        delta = 1\n",
    "        while i - delta > 0 and i + delta < length and s[i - delta] == s[i + delta]:\n",
    "            delta += 1\n",
    "        palin_len = 2 * delta - 1\n",
    "        if palin_len > res:\n",
    "            res = palin_len\n",
    "    return res\n",
    "```"
   ]
  },
  {
   "cell_type": "markdown",
   "metadata": {
    "slideshow": {
     "slide_type": "fragment"
    }
   },
   "source": [
    "<p style=\"text-align:center;\">$O(n^2)$</p>"
   ]
  },
  {
   "cell_type": "markdown",
   "metadata": {
    "slideshow": {
     "slide_type": "slide"
    }
   },
   "source": [
    "# A1 SUPREMACY\n",
    "> *\"See you more motivated than ever to prove the whole promo that A1 rules!\"*\n",
    "> - Adam Franco, 2024"
   ]
  }
 ],
 "metadata": {
  "celltoolbar": "Éditer les Méta-Données",
  "kernelspec": {
   "display_name": "Python 3",
   "language": "python",
   "name": "python3"
  },
  "language_info": {
   "codemirror_mode": {
    "name": "ipython",
    "version": 3
   },
   "file_extension": ".py",
   "mimetype": "text/x-python",
   "name": "python",
   "nbconvert_exporter": "python",
   "pygments_lexer": "ipython3",
   "version": "3.13.0"
  }
 },
 "nbformat": 4,
 "nbformat_minor": 4
}
