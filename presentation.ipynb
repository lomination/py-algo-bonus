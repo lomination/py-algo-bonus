{
 "cells": [
  {
   "cell_type": "markdown",
   "metadata": {
    "slideshow": {
     "slide_type": "slide"
    }
   },
   "source": [
    "# Python Strings\n",
    "## Algo Bonus - A1 Class\n",
    "**`Algo-S1-3-Python`**"
   ]
  },
  {
   "cell_type": "markdown",
   "metadata": {
    "slideshow": {
     "slide_type": "slide"
    }
   },
   "source": [
    "### Exercise 3.1 (Substring)\n",
    "Write a function that tests whether the string `sub` is a substring of the string `s`. If it is the case, it returns\n",
    "the position of the first character of `sub` in the string `s` if found, `-1` otherwise."
   ]
  },
  {
   "cell_type": "code",
   "execution_count": null,
   "metadata": {
    "slideshow": {
     "slide_type": "fragment"
    }
   },
   "outputs": [],
   "source": [
    "def substring(s: str, sub: str) -> int:\n",
    "    i = 0\n",
    "    result = -1\n",
    "    length = len(s) - len(sub) + 1\n",
    "    sub_length = len(sub)\n",
    "    while result == -1 and i < length:\n",
    "        j = 0\n",
    "        while j < sub_length and s[i + j] == sub[j]:\n",
    "            j += 1\n",
    "        if j == sub_length:\n",
    "            result = i\n",
    "        else:\n",
    "            i += 1\n",
    "    return result"
   ]
  },
  {
   "cell_type": "markdown",
   "metadata": {
    "slideshow": {
     "slide_type": "slide"
    }
   },
   "source": [
    "### Exercise 3.2 (Alphabetical substring)\n",
    "Write a function that returns the longest alphabetically sorted substring in a given string s and its length.\n",
    "The string s is only composed of lowercase letters."
   ]
  },
  {
   "cell_type": "code",
   "execution_count": null,
   "metadata": {
    "slideshow": {
     "slide_type": "fragment"
    }
   },
   "outputs": [],
   "source": [
    "def longest_alpha_substring(s: str) -> tuple[str, int]:\n",
    "    length = len(s)\n",
    "    res = (\"\", 0)\n",
    "    if length > 0:\n",
    "        current = res = (s[0], 1)\n",
    "    for i in range(1, length):\n",
    "        if s[i - 1] > s[i]:\n",
    "            current = (\"\", 0)\n",
    "        current = (current[0] + s[i], current[1] + 1)\n",
    "        if current[1] > res[1]:\n",
    "            res = current\n",
    "    return res"
   ]
  },
  {
   "cell_type": "markdown",
   "metadata": {
    "slideshow": {
     "slide_type": "slide"
    }
   },
   "source": [
    "### Exercise 3.3 (Palindromic substring)\n",
    "Write a function that returns the length of longest palindromic substring in a given string s."
   ]
  }
 ],
 "metadata": {
  "celltoolbar": "Éditer les Méta-Données",
  "kernelspec": {
   "display_name": "Python 3 (ipykernel)",
   "language": "python",
   "name": "python3"
  },
  "language_info": {
   "codemirror_mode": {
    "name": "ipython",
    "version": 3
   },
   "file_extension": ".py",
   "mimetype": "text/x-python",
   "name": "python",
   "nbconvert_exporter": "python",
   "pygments_lexer": "ipython3",
   "version": "3.13.0"
  }
 },
 "nbformat": 4,
 "nbformat_minor": 4
}
